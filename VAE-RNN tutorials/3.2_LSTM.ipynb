{
 "cells": [
  {
   "cell_type": "markdown",
   "id": "b2c1e40f",
   "metadata": {},
   "source": [
    "# LSTM"
   ]
  },
  {
   "cell_type": "markdown",
   "id": "081f275f",
   "metadata": {},
   "source": [
    "## RNN VS LSTM"
   ]
  },
  {
   "cell_type": "markdown",
   "id": "846802e0",
   "metadata": {},
   "source": [
    "The main difference between RNN and LSTM is that LSTM incorporates gates: <p></p>\n",
    "- forget gate\n",
    "- update gate\n",
    "- output gate"
   ]
  },
  {
   "cell_type": "markdown",
   "id": "28b3c139",
   "metadata": {},
   "source": [
    "![alt text](<utils/images/lstm cell.png>)"
   ]
  },
  {
   "cell_type": "markdown",
   "id": "c0136970",
   "metadata": {},
   "source": [
    "![alt text](<utils/images/unrolling lstm.png>)"
   ]
  },
  {
   "cell_type": "markdown",
   "id": "d2e08617",
   "metadata": {},
   "source": [
    "## LINKS"
   ]
  },
  {
   "cell_type": "markdown",
   "id": "8a17738a",
   "metadata": {},
   "source": [
    "https://github.com/SheezaShabbir/Time-series-Analysis-using-LSTM-RNN-and-GRU/blob/main/Pytorch_LSTMs%2CRNN%2CGRU_for_time_series_data.ipynb"
   ]
  }
 ],
 "metadata": {
  "kernelspec": {
   "display_name": "Python 3",
   "language": "python",
   "name": "python3"
  },
  "language_info": {
   "codemirror_mode": {
    "name": "ipython",
    "version": 3
   },
   "file_extension": ".py",
   "mimetype": "text/x-python",
   "name": "python",
   "nbconvert_exporter": "python",
   "pygments_lexer": "ipython3",
   "version": "3.11.9"
  }
 },
 "nbformat": 4,
 "nbformat_minor": 5
}
