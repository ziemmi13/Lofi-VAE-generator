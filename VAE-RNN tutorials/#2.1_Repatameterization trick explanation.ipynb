{
 "cells": [
  {
   "cell_type": "markdown",
   "id": "2c9f6afa",
   "metadata": {},
   "source": [
    "# SAMPLING TRICK EXPLANATION"
   ]
  },
  {
   "cell_type": "markdown",
   "id": "7b2957e5",
   "metadata": {},
   "source": [
    "## PROBLEM"
   ]
  },
  {
   "cell_type": "markdown",
   "id": "b75bf07f",
   "metadata": {},
   "source": [
    "Brak możliwości bakpropagacji - samplowany latent vector jest stochastyczny (losowy)"
   ]
  },
  {
   "cell_type": "markdown",
   "id": "5e3db74a",
   "metadata": {},
   "source": [
    "\n",
    "![alt text](<images/vae backpropagation.png>)"
   ]
  },
  {
   "cell_type": "markdown",
   "id": "78bced9b",
   "metadata": {},
   "source": [
    "## SOLUTION"
   ]
  },
  {
   "cell_type": "markdown",
   "id": "33396c96",
   "metadata": {},
   "source": [
    "![alt text](<images/vae backpropagation good.png>)"
   ]
  },
  {
   "cell_type": "markdown",
   "id": "fdf3103f",
   "metadata": {},
   "source": [
    "![alt text](<images/reparametrization trick - backpropagation.png>)"
   ]
  },
  {
   "cell_type": "markdown",
   "id": "70b2877c",
   "metadata": {},
   "source": [
    "## LINKS"
   ]
  },
  {
   "cell_type": "markdown",
   "id": "aaa2b0e5",
   "metadata": {},
   "source": [
    "https://www.youtube.com/watch?v=xL1BJBarzWI"
   ]
  }
 ],
 "metadata": {
  "kernelspec": {
   "display_name": "venv",
   "language": "python",
   "name": "python3"
  },
  "language_info": {
   "name": "python",
   "version": "3.11.9"
  }
 },
 "nbformat": 4,
 "nbformat_minor": 5
}
